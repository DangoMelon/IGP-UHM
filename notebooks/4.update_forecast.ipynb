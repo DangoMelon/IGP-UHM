{
 "cells": [
  {
   "cell_type": "code",
   "execution_count": 1,
   "id": "568689f0-ae05-49b9-9e07-20d0413823dd",
   "metadata": {
    "tags": []
   },
   "outputs": [],
   "source": [
    "import os\n",
    "from glob import glob\n",
    "\n",
    "import matplotlib\n",
    "import matplotlib.pyplot as plt\n",
    "import numpy as np\n",
    "import xarray as xr\n",
    "from dmelon.utils import check_folder"
   ]
  },
  {
   "cell_type": "code",
   "execution_count": 2,
   "id": "9baf89c0-166f-4bd0-ac3a-9b5e2e91a119",
   "metadata": {
    "tags": []
   },
   "outputs": [],
   "source": [
    "os.environ[\"TF_CPP_MIN_LOG_LEVEL\"] = \"3\"\n",
    "os.environ[\"CUDA_DEVICE_ORDER\"] = \"PCI_BUS_ID\"\n",
    "os.environ[\"CUDA_VISIBLE_DEVICES\"] = \"0\"\n",
    "\n",
    "OBS_PATH = \"../data/processed/obs_train/\""
   ]
  },
  {
   "cell_type": "code",
   "execution_count": 3,
   "id": "74a6c4f6-a5eb-40f1-aa44-183af89e9810",
   "metadata": {
    "tags": []
   },
   "outputs": [
    {
     "data": {
      "text/html": [
       "<div><svg style=\"position: absolute; width: 0; height: 0; overflow: hidden\">\n",
       "<defs>\n",
       "<symbol id=\"icon-database\" viewBox=\"0 0 32 32\">\n",
       "<path d=\"M16 0c-8.837 0-16 2.239-16 5v4c0 2.761 7.163 5 16 5s16-2.239 16-5v-4c0-2.761-7.163-5-16-5z\"></path>\n",
       "<path d=\"M16 17c-8.837 0-16-2.239-16-5v6c0 2.761 7.163 5 16 5s16-2.239 16-5v-6c0 2.761-7.163 5-16 5z\"></path>\n",
       "<path d=\"M16 26c-8.837 0-16-2.239-16-5v6c0 2.761 7.163 5 16 5s16-2.239 16-5v-6c0 2.761-7.163 5-16 5z\"></path>\n",
       "</symbol>\n",
       "<symbol id=\"icon-file-text2\" viewBox=\"0 0 32 32\">\n",
       "<path d=\"M28.681 7.159c-0.694-0.947-1.662-2.053-2.724-3.116s-2.169-2.030-3.116-2.724c-1.612-1.182-2.393-1.319-2.841-1.319h-15.5c-1.378 0-2.5 1.121-2.5 2.5v27c0 1.378 1.122 2.5 2.5 2.5h23c1.378 0 2.5-1.122 2.5-2.5v-19.5c0-0.448-0.137-1.23-1.319-2.841zM24.543 5.457c0.959 0.959 1.712 1.825 2.268 2.543h-4.811v-4.811c0.718 0.556 1.584 1.309 2.543 2.268zM28 29.5c0 0.271-0.229 0.5-0.5 0.5h-23c-0.271 0-0.5-0.229-0.5-0.5v-27c0-0.271 0.229-0.5 0.5-0.5 0 0 15.499-0 15.5 0v7c0 0.552 0.448 1 1 1h7v19.5z\"></path>\n",
       "<path d=\"M23 26h-14c-0.552 0-1-0.448-1-1s0.448-1 1-1h14c0.552 0 1 0.448 1 1s-0.448 1-1 1z\"></path>\n",
       "<path d=\"M23 22h-14c-0.552 0-1-0.448-1-1s0.448-1 1-1h14c0.552 0 1 0.448 1 1s-0.448 1-1 1z\"></path>\n",
       "<path d=\"M23 18h-14c-0.552 0-1-0.448-1-1s0.448-1 1-1h14c0.552 0 1 0.448 1 1s-0.448 1-1 1z\"></path>\n",
       "</symbol>\n",
       "</defs>\n",
       "</svg>\n",
       "<style>/* CSS stylesheet for displaying xarray objects in jupyterlab.\n",
       " *\n",
       " */\n",
       "\n",
       ":root {\n",
       "  --xr-font-color0: var(--jp-content-font-color0, rgba(0, 0, 0, 1));\n",
       "  --xr-font-color2: var(--jp-content-font-color2, rgba(0, 0, 0, 0.54));\n",
       "  --xr-font-color3: var(--jp-content-font-color3, rgba(0, 0, 0, 0.38));\n",
       "  --xr-border-color: var(--jp-border-color2, #e0e0e0);\n",
       "  --xr-disabled-color: var(--jp-layout-color3, #bdbdbd);\n",
       "  --xr-background-color: var(--jp-layout-color0, white);\n",
       "  --xr-background-color-row-even: var(--jp-layout-color1, white);\n",
       "  --xr-background-color-row-odd: var(--jp-layout-color2, #eeeeee);\n",
       "}\n",
       "\n",
       "html[theme=dark],\n",
       "body[data-theme=dark],\n",
       "body.vscode-dark {\n",
       "  --xr-font-color0: rgba(255, 255, 255, 1);\n",
       "  --xr-font-color2: rgba(255, 255, 255, 0.54);\n",
       "  --xr-font-color3: rgba(255, 255, 255, 0.38);\n",
       "  --xr-border-color: #1F1F1F;\n",
       "  --xr-disabled-color: #515151;\n",
       "  --xr-background-color: #111111;\n",
       "  --xr-background-color-row-even: #111111;\n",
       "  --xr-background-color-row-odd: #313131;\n",
       "}\n",
       "\n",
       ".xr-wrap {\n",
       "  display: block !important;\n",
       "  min-width: 300px;\n",
       "  max-width: 700px;\n",
       "}\n",
       "\n",
       ".xr-text-repr-fallback {\n",
       "  /* fallback to plain text repr when CSS is not injected (untrusted notebook) */\n",
       "  display: none;\n",
       "}\n",
       "\n",
       ".xr-header {\n",
       "  padding-top: 6px;\n",
       "  padding-bottom: 6px;\n",
       "  margin-bottom: 4px;\n",
       "  border-bottom: solid 1px var(--xr-border-color);\n",
       "}\n",
       "\n",
       ".xr-header > div,\n",
       ".xr-header > ul {\n",
       "  display: inline;\n",
       "  margin-top: 0;\n",
       "  margin-bottom: 0;\n",
       "}\n",
       "\n",
       ".xr-obj-type,\n",
       ".xr-array-name {\n",
       "  margin-left: 2px;\n",
       "  margin-right: 10px;\n",
       "}\n",
       "\n",
       ".xr-obj-type {\n",
       "  color: var(--xr-font-color2);\n",
       "}\n",
       "\n",
       ".xr-sections {\n",
       "  padding-left: 0 !important;\n",
       "  display: grid;\n",
       "  grid-template-columns: 150px auto auto 1fr 20px 20px;\n",
       "}\n",
       "\n",
       ".xr-section-item {\n",
       "  display: contents;\n",
       "}\n",
       "\n",
       ".xr-section-item input {\n",
       "  display: none;\n",
       "}\n",
       "\n",
       ".xr-section-item input + label {\n",
       "  color: var(--xr-disabled-color);\n",
       "}\n",
       "\n",
       ".xr-section-item input:enabled + label {\n",
       "  cursor: pointer;\n",
       "  color: var(--xr-font-color2);\n",
       "}\n",
       "\n",
       ".xr-section-item input:enabled + label:hover {\n",
       "  color: var(--xr-font-color0);\n",
       "}\n",
       "\n",
       ".xr-section-summary {\n",
       "  grid-column: 1;\n",
       "  color: var(--xr-font-color2);\n",
       "  font-weight: 500;\n",
       "}\n",
       "\n",
       ".xr-section-summary > span {\n",
       "  display: inline-block;\n",
       "  padding-left: 0.5em;\n",
       "}\n",
       "\n",
       ".xr-section-summary-in:disabled + label {\n",
       "  color: var(--xr-font-color2);\n",
       "}\n",
       "\n",
       ".xr-section-summary-in + label:before {\n",
       "  display: inline-block;\n",
       "  content: '►';\n",
       "  font-size: 11px;\n",
       "  width: 15px;\n",
       "  text-align: center;\n",
       "}\n",
       "\n",
       ".xr-section-summary-in:disabled + label:before {\n",
       "  color: var(--xr-disabled-color);\n",
       "}\n",
       "\n",
       ".xr-section-summary-in:checked + label:before {\n",
       "  content: '▼';\n",
       "}\n",
       "\n",
       ".xr-section-summary-in:checked + label > span {\n",
       "  display: none;\n",
       "}\n",
       "\n",
       ".xr-section-summary,\n",
       ".xr-section-inline-details {\n",
       "  padding-top: 4px;\n",
       "  padding-bottom: 4px;\n",
       "}\n",
       "\n",
       ".xr-section-inline-details {\n",
       "  grid-column: 2 / -1;\n",
       "}\n",
       "\n",
       ".xr-section-details {\n",
       "  display: none;\n",
       "  grid-column: 1 / -1;\n",
       "  margin-bottom: 5px;\n",
       "}\n",
       "\n",
       ".xr-section-summary-in:checked ~ .xr-section-details {\n",
       "  display: contents;\n",
       "}\n",
       "\n",
       ".xr-array-wrap {\n",
       "  grid-column: 1 / -1;\n",
       "  display: grid;\n",
       "  grid-template-columns: 20px auto;\n",
       "}\n",
       "\n",
       ".xr-array-wrap > label {\n",
       "  grid-column: 1;\n",
       "  vertical-align: top;\n",
       "}\n",
       "\n",
       ".xr-preview {\n",
       "  color: var(--xr-font-color3);\n",
       "}\n",
       "\n",
       ".xr-array-preview,\n",
       ".xr-array-data {\n",
       "  padding: 0 5px !important;\n",
       "  grid-column: 2;\n",
       "}\n",
       "\n",
       ".xr-array-data,\n",
       ".xr-array-in:checked ~ .xr-array-preview {\n",
       "  display: none;\n",
       "}\n",
       "\n",
       ".xr-array-in:checked ~ .xr-array-data,\n",
       ".xr-array-preview {\n",
       "  display: inline-block;\n",
       "}\n",
       "\n",
       ".xr-dim-list {\n",
       "  display: inline-block !important;\n",
       "  list-style: none;\n",
       "  padding: 0 !important;\n",
       "  margin: 0;\n",
       "}\n",
       "\n",
       ".xr-dim-list li {\n",
       "  display: inline-block;\n",
       "  padding: 0;\n",
       "  margin: 0;\n",
       "}\n",
       "\n",
       ".xr-dim-list:before {\n",
       "  content: '(';\n",
       "}\n",
       "\n",
       ".xr-dim-list:after {\n",
       "  content: ')';\n",
       "}\n",
       "\n",
       ".xr-dim-list li:not(:last-child):after {\n",
       "  content: ',';\n",
       "  padding-right: 5px;\n",
       "}\n",
       "\n",
       ".xr-has-index {\n",
       "  font-weight: bold;\n",
       "}\n",
       "\n",
       ".xr-var-list,\n",
       ".xr-var-item {\n",
       "  display: contents;\n",
       "}\n",
       "\n",
       ".xr-var-item > div,\n",
       ".xr-var-item label,\n",
       ".xr-var-item > .xr-var-name span {\n",
       "  background-color: var(--xr-background-color-row-even);\n",
       "  margin-bottom: 0;\n",
       "}\n",
       "\n",
       ".xr-var-item > .xr-var-name:hover span {\n",
       "  padding-right: 5px;\n",
       "}\n",
       "\n",
       ".xr-var-list > li:nth-child(odd) > div,\n",
       ".xr-var-list > li:nth-child(odd) > label,\n",
       ".xr-var-list > li:nth-child(odd) > .xr-var-name span {\n",
       "  background-color: var(--xr-background-color-row-odd);\n",
       "}\n",
       "\n",
       ".xr-var-name {\n",
       "  grid-column: 1;\n",
       "}\n",
       "\n",
       ".xr-var-dims {\n",
       "  grid-column: 2;\n",
       "}\n",
       "\n",
       ".xr-var-dtype {\n",
       "  grid-column: 3;\n",
       "  text-align: right;\n",
       "  color: var(--xr-font-color2);\n",
       "}\n",
       "\n",
       ".xr-var-preview {\n",
       "  grid-column: 4;\n",
       "}\n",
       "\n",
       ".xr-index-preview {\n",
       "  grid-column: 2 / 5;\n",
       "  color: var(--xr-font-color2);\n",
       "}\n",
       "\n",
       ".xr-var-name,\n",
       ".xr-var-dims,\n",
       ".xr-var-dtype,\n",
       ".xr-preview,\n",
       ".xr-attrs dt {\n",
       "  white-space: nowrap;\n",
       "  overflow: hidden;\n",
       "  text-overflow: ellipsis;\n",
       "  padding-right: 10px;\n",
       "}\n",
       "\n",
       ".xr-var-name:hover,\n",
       ".xr-var-dims:hover,\n",
       ".xr-var-dtype:hover,\n",
       ".xr-attrs dt:hover {\n",
       "  overflow: visible;\n",
       "  width: auto;\n",
       "  z-index: 1;\n",
       "}\n",
       "\n",
       ".xr-var-attrs,\n",
       ".xr-var-data,\n",
       ".xr-index-data {\n",
       "  display: none;\n",
       "  background-color: var(--xr-background-color) !important;\n",
       "  padding-bottom: 5px !important;\n",
       "}\n",
       "\n",
       ".xr-var-attrs-in:checked ~ .xr-var-attrs,\n",
       ".xr-var-data-in:checked ~ .xr-var-data,\n",
       ".xr-index-data-in:checked ~ .xr-index-data {\n",
       "  display: block;\n",
       "}\n",
       "\n",
       ".xr-var-data > table {\n",
       "  float: right;\n",
       "}\n",
       "\n",
       ".xr-var-name span,\n",
       ".xr-var-data,\n",
       ".xr-index-name div,\n",
       ".xr-index-data,\n",
       ".xr-attrs {\n",
       "  padding-left: 25px !important;\n",
       "}\n",
       "\n",
       ".xr-attrs,\n",
       ".xr-var-attrs,\n",
       ".xr-var-data,\n",
       ".xr-index-data {\n",
       "  grid-column: 1 / -1;\n",
       "}\n",
       "\n",
       "dl.xr-attrs {\n",
       "  padding: 0;\n",
       "  margin: 0;\n",
       "  display: grid;\n",
       "  grid-template-columns: 125px auto;\n",
       "}\n",
       "\n",
       ".xr-attrs dt,\n",
       ".xr-attrs dd {\n",
       "  padding: 0;\n",
       "  margin: 0;\n",
       "  float: left;\n",
       "  padding-right: 10px;\n",
       "  width: auto;\n",
       "}\n",
       "\n",
       ".xr-attrs dt {\n",
       "  font-weight: normal;\n",
       "  grid-column: 1;\n",
       "}\n",
       "\n",
       ".xr-attrs dt:hover span {\n",
       "  display: inline-block;\n",
       "  background: var(--xr-background-color);\n",
       "  padding-right: 10px;\n",
       "}\n",
       "\n",
       ".xr-attrs dd {\n",
       "  grid-column: 2;\n",
       "  white-space: pre-wrap;\n",
       "  word-break: break-all;\n",
       "}\n",
       "\n",
       ".xr-icon-database,\n",
       ".xr-icon-file-text2,\n",
       ".xr-no-icon {\n",
       "  display: inline-block;\n",
       "  vertical-align: middle;\n",
       "  width: 1em;\n",
       "  height: 1.5em !important;\n",
       "  stroke-width: 0;\n",
       "  stroke: currentColor;\n",
       "  fill: currentColor;\n",
       "}\n",
       "</style><pre class='xr-text-repr-fallback'>&lt;xarray.DataArray (channel: 4)&gt;\n",
       "array([ 1.36, 13.86,  1.97,  1.14])\n",
       "Coordinates:\n",
       "  * channel  (channel) &lt;U3 &#x27;sst&#x27; &#x27;ssh&#x27; &#x27;uas&#x27; &#x27;vas&#x27;</pre><div class='xr-wrap' style='display:none'><div class='xr-header'><div class='xr-obj-type'>xarray.DataArray</div><div class='xr-array-name'></div><ul class='xr-dim-list'><li><span class='xr-has-index'>channel</span>: 4</li></ul></div><ul class='xr-sections'><li class='xr-section-item'><div class='xr-array-wrap'><input id='section-155131c8-8176-44d7-9ae7-ac19c8a940de' class='xr-array-in' type='checkbox' checked><label for='section-155131c8-8176-44d7-9ae7-ac19c8a940de' title='Show/hide data repr'><svg class='icon xr-icon-database'><use xlink:href='#icon-database'></use></svg></label><div class='xr-array-preview xr-preview'><span>1.36 13.86 1.97 1.14</span></div><div class='xr-array-data'><pre>array([ 1.36, 13.86,  1.97,  1.14])</pre></div></div></li><li class='xr-section-item'><input id='section-3b0811d0-f243-4e4e-a252-d672e0a97978' class='xr-section-summary-in' type='checkbox'  checked><label for='section-3b0811d0-f243-4e4e-a252-d672e0a97978' class='xr-section-summary' >Coordinates: <span>(1)</span></label><div class='xr-section-inline-details'></div><div class='xr-section-details'><ul class='xr-var-list'><li class='xr-var-item'><div class='xr-var-name'><span class='xr-has-index'>channel</span></div><div class='xr-var-dims'>(channel)</div><div class='xr-var-dtype'>&lt;U3</div><div class='xr-var-preview xr-preview'>&#x27;sst&#x27; &#x27;ssh&#x27; &#x27;uas&#x27; &#x27;vas&#x27;</div><input id='attrs-f40c6769-8c88-471d-a09d-dd2f3d60ad12' class='xr-var-attrs-in' type='checkbox' disabled><label for='attrs-f40c6769-8c88-471d-a09d-dd2f3d60ad12' title='Show/Hide attributes'><svg class='icon xr-icon-file-text2'><use xlink:href='#icon-file-text2'></use></svg></label><input id='data-dc531285-4a77-4a7f-81f1-4188f77b35b1' class='xr-var-data-in' type='checkbox'><label for='data-dc531285-4a77-4a7f-81f1-4188f77b35b1' title='Show/Hide data repr'><svg class='icon xr-icon-database'><use xlink:href='#icon-database'></use></svg></label><div class='xr-var-attrs'><dl class='xr-attrs'></dl></div><div class='xr-var-data'><pre>array([&#x27;sst&#x27;, &#x27;ssh&#x27;, &#x27;uas&#x27;, &#x27;vas&#x27;], dtype=&#x27;&lt;U3&#x27;)</pre></div></li></ul></div></li><li class='xr-section-item'><input id='section-81a1ac08-0a1f-4ab2-b60f-9c25a3a2778e' class='xr-section-summary-in' type='checkbox'  ><label for='section-81a1ac08-0a1f-4ab2-b60f-9c25a3a2778e' class='xr-section-summary' >Indexes: <span>(1)</span></label><div class='xr-section-inline-details'></div><div class='xr-section-details'><ul class='xr-var-list'><li class='xr-var-item'><div class='xr-index-name'><div>channel</div></div><div class='xr-index-preview'>PandasIndex</div><div></div><input id='index-966350cc-3264-473a-a8d8-981665d9e32b' class='xr-index-data-in' type='checkbox'/><label for='index-966350cc-3264-473a-a8d8-981665d9e32b' title='Show/Hide index repr'><svg class='icon xr-icon-database'><use xlink:href='#icon-database'></use></svg></label><div class='xr-index-data'><pre>PandasIndex(Index([&#x27;sst&#x27;, &#x27;ssh&#x27;, &#x27;uas&#x27;, &#x27;vas&#x27;], dtype=&#x27;object&#x27;, name=&#x27;channel&#x27;))</pre></div></li></ul></div></li><li class='xr-section-item'><input id='section-b6430971-2a13-4c65-850b-3ccbf5837c31' class='xr-section-summary-in' type='checkbox' disabled ><label for='section-b6430971-2a13-4c65-850b-3ccbf5837c31' class='xr-section-summary'  title='Expand/collapse section'>Attributes: <span>(0)</span></label><div class='xr-section-inline-details'></div><div class='xr-section-details'><dl class='xr-attrs'></dl></div></li></ul></div></div>"
      ],
      "text/plain": [
       "<xarray.DataArray (channel: 4)>\n",
       "array([ 1.36, 13.86,  1.97,  1.14])\n",
       "Coordinates:\n",
       "  * channel  (channel) <U3 'sst' 'ssh' 'uas' 'vas'"
      ]
     },
     "execution_count": 3,
     "metadata": {},
     "output_type": "execute_result"
    }
   ],
   "source": [
    "std = xr.DataArray(\n",
    "    [1.36, 13.86, 1.97, 1.14], coords=[(\"channel\", [\"sst\", \"ssh\", \"uas\", \"vas\"])]\n",
    ")\n",
    "std"
   ]
  },
  {
   "cell_type": "markdown",
   "id": "a8c96ab5-017c-43b5-ad1b-c6ceb3596c31",
   "metadata": {},
   "source": [
    "## GODAS (validation)"
   ]
  },
  {
   "cell_type": "code",
   "execution_count": 4,
   "id": "c5ed306b-1269-454d-b493-4ee8455be5db",
   "metadata": {
    "tags": []
   },
   "outputs": [],
   "source": [
    "godas_input = (\n",
    "    xr.open_dataset(os.path.join(OBS_PATH, \"godas.train_set.nc\")).sst_anom / std\n",
    ").transpose(\"time\", \"channel\", \"lag\", \"lat\", \"lon\")\n",
    "\n",
    "godas_label_Eindex = xr.open_dataset(os.path.join(OBS_PATH, \"godas.E_index.nc\"))[\n",
    "    \"E_index\"\n",
    "]\n",
    "godas_label_Cindex = xr.open_dataset(os.path.join(OBS_PATH, \"godas.C_index.nc\"))[\n",
    "    \"C_index\"\n",
    "]\n",
    "\n",
    "godas_time = xr.open_dataset(\n",
    "    os.path.join(OBS_PATH, \"godas.train_time_set.nc\")\n",
    ").expand_dims({\"channel\": [1]}, -1)\n",
    "\n",
    "godas_time_sin = godas_time.time_sin\n",
    "godas_time_cos = godas_time.time_cos\n",
    "\n",
    "godas_extreme_class = (godas_label_Eindex.sel(lead=1, drop=True) >= 1.5) & (\n",
    "    godas_label_Eindex.month == 12\n",
    ")\n",
    "\n",
    "godas_extreme_class = (\n",
    "    godas_extreme_class.astype(int)\n",
    "    .where(godas_extreme_class)\n",
    "    .bfill(dim=\"time\", limit=11)\n",
    "    .fillna(0)\n",
    ")\n",
    "\n",
    "\n",
    "godas_data = godas_input"
   ]
  },
  {
   "cell_type": "code",
   "execution_count": 5,
   "id": "c917604e-644a-4816-bf01-61e899a87225",
   "metadata": {
    "tags": []
   },
   "outputs": [
    {
     "name": "stdout",
     "output_type": "stream",
     "text": [
      "Using GPU: PhysicalDevice(name='/physical_device:GPU:0', device_type='GPU')\n"
     ]
    }
   ],
   "source": [
    "import tensorflow as tf\n",
    "from model_definition import (\n",
    "    CategoricalFalseNegatives,\n",
    "    CategoricalFalsePositives,\n",
    "    CategoricalTrueNegatives,\n",
    "    CategoricalTruePositives,\n",
    "    CriticalScoreIndex,\n",
    "    ECNet_keras,\n",
    ")\n",
    "\n",
    "tf.keras.utils.set_random_seed(1337)\n",
    "gpus = tf.config.list_physical_devices(\"GPU\")\n",
    "tf.config.experimental.set_memory_growth(gpus[0], True)\n",
    "print(f\"Using GPU: {gpus[0]}\")\n",
    "\n",
    "# input data on the CPU\n",
    "# https://github.com/keras-team/keras/issues/16997#issuecomment-1252488327\n",
    "BUFFER_SIZE = 100000\n",
    "start_lead = 1\n",
    "end_lead = 12"
   ]
  },
  {
   "cell_type": "code",
   "execution_count": 6,
   "id": "6c298953-80fc-47a3-ab1b-86cf25a2119d",
   "metadata": {
    "scrolled": true,
    "tags": []
   },
   "outputs": [
    {
     "name": "stdout",
     "output_type": "stream",
     "text": [
      "Doing finetune ensemble member: 00\n",
      "17/17 [==============================] - 2s 4ms/step\n",
      "Doing finetune ensemble member: 01\n",
      "17/17 [==============================] - 0s 3ms/step\n",
      "Doing finetune ensemble member: 02\n",
      "17/17 [==============================] - 0s 3ms/step\n",
      "Doing finetune ensemble member: 03\n",
      "17/17 [==============================] - 0s 3ms/step\n",
      "Doing finetune ensemble member: 04\n",
      "17/17 [==============================] - 0s 3ms/step\n",
      "Doing finetune ensemble member: 05\n",
      "17/17 [==============================] - 0s 3ms/step\n",
      "Doing finetune ensemble member: 06\n",
      "17/17 [==============================] - 0s 3ms/step\n",
      "Doing finetune ensemble member: 07\n",
      "17/17 [==============================] - 0s 3ms/step\n",
      "Doing finetune ensemble member: 08\n",
      "17/17 [==============================] - 0s 3ms/step\n",
      "Doing finetune ensemble member: 09\n",
      "17/17 [==============================] - 0s 4ms/step\n",
      "Doing finetune ensemble member: 10\n",
      "17/17 [==============================] - 0s 3ms/step\n",
      "Doing finetune ensemble member: 11\n",
      "17/17 [==============================] - 0s 3ms/step\n",
      "Doing finetune ensemble member: 12\n",
      "17/17 [==============================] - 0s 3ms/step\n",
      "Doing finetune ensemble member: 13\n",
      "17/17 [==============================] - 0s 3ms/step\n",
      "Doing finetune ensemble member: 14\n",
      "17/17 [==============================] - 0s 3ms/step\n",
      "Doing finetune ensemble member: 15\n",
      "17/17 [==============================] - 0s 3ms/step\n",
      "Doing finetune ensemble member: 16\n",
      "17/17 [==============================] - 0s 3ms/step\n",
      "Doing finetune ensemble member: 17\n",
      "17/17 [==============================] - 0s 3ms/step\n",
      "Doing finetune ensemble member: 18\n",
      "17/17 [==============================] - 0s 3ms/step\n",
      "Doing finetune ensemble member: 19\n",
      "17/17 [==============================] - 0s 3ms/step\n",
      "Doing finetune ensemble member: 20\n",
      "17/17 [==============================] - 0s 3ms/step\n",
      "Doing finetune ensemble member: 21\n",
      "17/17 [==============================] - 0s 3ms/step\n",
      "Doing finetune ensemble member: 22\n",
      "17/17 [==============================] - 0s 3ms/step\n",
      "Doing finetune ensemble member: 23\n",
      "17/17 [==============================] - 0s 3ms/step\n",
      "Doing finetune ensemble member: 24\n",
      "17/17 [==============================] - 0s 3ms/step\n",
      "Doing finetune ensemble member: 25\n",
      "17/17 [==============================] - 0s 3ms/step\n",
      "Doing finetune ensemble member: 26\n",
      "17/17 [==============================] - 0s 3ms/step\n",
      "Doing finetune ensemble member: 27\n",
      "17/17 [==============================] - 0s 3ms/step\n",
      "Doing finetune ensemble member: 28\n",
      "17/17 [==============================] - 0s 3ms/step\n",
      "Doing finetune ensemble member: 29\n",
      "17/17 [==============================] - 0s 3ms/step\n"
     ]
    }
   ],
   "source": [
    "NENS = 30\n",
    "\n",
    "for ens_number in range(NENS):\n",
    "    EXP_NAME = f\"ecmodel_m{ens_number:02d}\"\n",
    "    OUT_PATH = os.path.join(\"../models/IGP-UHM-v1.0\", EXP_NAME)\n",
    "    # PLOT_PATH = os.path.join(os.getcwd(), \"plots\", EXP_NAME)\n",
    "    MODEL_FT_PATH = os.path.join(OUT_PATH, f\"model_ft_{ens_number:02d}\")\n",
    "    # check_folder(PLOT_PATH)\n",
    "\n",
    "    # FINE TUNING\n",
    "    print(f\"Doing finetune ensemble member: {ens_number:02d}\")\n",
    "\n",
    "    model = tf.keras.models.load_model(\n",
    "        MODEL_FT_PATH,\n",
    "        custom_objects=dict(\n",
    "            CriticalScoreIndex=CriticalScoreIndex,\n",
    "            CategoricalTruePositives=CategoricalTruePositives,\n",
    "            CategoricalFalsePositives=CategoricalFalsePositives,\n",
    "            CategoricalTrueNegatives=CategoricalTrueNegatives,\n",
    "            CategoricalFalseNegatives=CategoricalFalseNegatives,\n",
    "        ),\n",
    "    )\n",
    "\n",
    "    # Get model predictions\n",
    "\n",
    "    eindex_hat, cindex_hat, time_hat, class_hat = model.predict(godas_data.data)\n",
    "\n",
    "    eindex_hat, cindex_hat, time_hat, class_hat = (\n",
    "        np.array(eindex_hat).astype(np.float32),\n",
    "        np.array(cindex_hat).astype(np.float32),\n",
    "        np.array(time_hat).astype(np.float32),\n",
    "        np.array(class_hat).astype(np.float32),\n",
    "    )\n",
    "\n",
    "    model_test_output = xr.Dataset(\n",
    "        {\n",
    "            \"eindex\": ([\"time\", \"lead\"], eindex_hat),\n",
    "            \"cindex\": ([\"time\", \"lead\"], cindex_hat),\n",
    "            \"tsin\": ([\"time\"], time_hat[:, 0]),\n",
    "            \"tcos\": ([\"time\"], time_hat[:, 1]),\n",
    "            \"class_hat\": ([\"time\"], class_hat[:, 1]),\n",
    "        },\n",
    "        coords={\n",
    "            \"time\": godas_data.time,\n",
    "            \"lead\": godas_label_Eindex.sel(lead=slice(start_lead, end_lead)).lead,\n",
    "            \"month\": ([\"time\"], godas_data.time.dt.month.data),\n",
    "            \"year\": ([\"time\"], godas_data.time.dt.year.data),\n",
    "        },\n",
    "    )\n",
    "\n",
    "    model_test_output.to_netcdf(\n",
    "        os.path.join(OUT_PATH, f\"model_output_ft_godas_{ens_number:02d}.nc\")\n",
    "    )"
   ]
  },
  {
   "cell_type": "code",
   "execution_count": 10,
   "id": "a02665d6-92ab-4052-99c1-6a4715b4e0a7",
   "metadata": {},
   "outputs": [
    {
     "name": "stdout",
     "output_type": "stream",
     "text": [
      "WARNING:tensorflow:From /glade/work/griverat/conda-envs/ml_keras/lib/python3.10/site-packages/tensorflow/python/compat/v2_compat.py:107: disable_resource_variables (from tensorflow.python.ops.variable_scope) is deprecated and will be removed in a future version.\n",
      "Instructions for updating:\n",
      "non-resource variables are not supported in the long term\n",
      "Using GPU: PhysicalDevice(name='/physical_device:GPU:0', device_type='GPU')\n"
     ]
    }
   ],
   "source": [
    "import innvestigate\n",
    "import tensorflow as tf\n",
    "from model_definition import (\n",
    "    CategoricalFalseNegatives,\n",
    "    CategoricalFalsePositives,\n",
    "    CategoricalTrueNegatives,\n",
    "    CategoricalTruePositives,\n",
    "    CriticalScoreIndex,\n",
    "    ECNet_keras,\n",
    ")\n",
    "\n",
    "tf.compat.v1.disable_v2_behavior()\n",
    "\n",
    "gpus = tf.config.list_physical_devices(\"GPU\")\n",
    "tf.config.experimental.set_memory_growth(gpus[0], True)\n",
    "print(f\"Using GPU: {gpus[0]}\")"
   ]
  },
  {
   "cell_type": "code",
   "execution_count": 12,
   "id": "64b1ef20-c971-4d85-ae59-8d9bbc26e293",
   "metadata": {
    "scrolled": true,
    "tags": []
   },
   "outputs": [
    {
     "name": "stdout",
     "output_type": "stream",
     "text": [
      "Reading ensemble member: 00\n",
      "WARNING:tensorflow:From /glade/work/griverat/conda-envs/ml_keras/lib/python3.10/site-packages/tensorflow/python/ops/init_ops.py:93: calling GlorotUniform.__init__ (from tensorflow.python.ops.init_ops) with dtype is deprecated and will be removed in a future version.\n",
      "Instructions for updating:\n",
      "Call initializer instance with the dtype argument instead of passing it to the constructor\n",
      "WARNING:tensorflow:From /glade/work/griverat/conda-envs/ml_keras/lib/python3.10/site-packages/tensorflow/python/ops/init_ops.py:93: calling Zeros.__init__ (from tensorflow.python.ops.init_ops) with dtype is deprecated and will be removed in a future version.\n",
      "Instructions for updating:\n",
      "Call initializer instance with the dtype argument instead of passing it to the constructor\n"
     ]
    },
    {
     "name": "stderr",
     "output_type": "stream",
     "text": [
      "/glade/work/griverat/conda-envs/ml_keras/lib/python3.10/site-packages/keras/engine/training_v1.py:2357: UserWarning: `Model.state_updates` will be removed in a future version. This property should not be used in TensorFlow 2.0, as `updates` are applied automatically.\n",
      "  updates=self.state_updates,\n",
      "/glade/work/griverat/conda-envs/ml_keras/lib/python3.10/site-packages/keras/engine/training_v1.py:2357: UserWarning: `Model.state_updates` will be removed in a future version. This property should not be used in TensorFlow 2.0, as `updates` are applied automatically.\n",
      "  updates=self.state_updates,\n"
     ]
    },
    {
     "name": "stdout",
     "output_type": "stream",
     "text": [
      "Reading ensemble member: 01\n"
     ]
    },
    {
     "name": "stderr",
     "output_type": "stream",
     "text": [
      "/glade/work/griverat/conda-envs/ml_keras/lib/python3.10/site-packages/keras/engine/training_v1.py:2357: UserWarning: `Model.state_updates` will be removed in a future version. This property should not be used in TensorFlow 2.0, as `updates` are applied automatically.\n",
      "  updates=self.state_updates,\n",
      "/glade/work/griverat/conda-envs/ml_keras/lib/python3.10/site-packages/keras/engine/training_v1.py:2357: UserWarning: `Model.state_updates` will be removed in a future version. This property should not be used in TensorFlow 2.0, as `updates` are applied automatically.\n",
      "  updates=self.state_updates,\n"
     ]
    },
    {
     "name": "stdout",
     "output_type": "stream",
     "text": [
      "Reading ensemble member: 02\n"
     ]
    },
    {
     "name": "stderr",
     "output_type": "stream",
     "text": [
      "/glade/work/griverat/conda-envs/ml_keras/lib/python3.10/site-packages/keras/engine/training_v1.py:2357: UserWarning: `Model.state_updates` will be removed in a future version. This property should not be used in TensorFlow 2.0, as `updates` are applied automatically.\n",
      "  updates=self.state_updates,\n",
      "/glade/work/griverat/conda-envs/ml_keras/lib/python3.10/site-packages/keras/engine/training_v1.py:2357: UserWarning: `Model.state_updates` will be removed in a future version. This property should not be used in TensorFlow 2.0, as `updates` are applied automatically.\n",
      "  updates=self.state_updates,\n"
     ]
    },
    {
     "name": "stdout",
     "output_type": "stream",
     "text": [
      "Reading ensemble member: 03\n"
     ]
    },
    {
     "name": "stderr",
     "output_type": "stream",
     "text": [
      "/glade/work/griverat/conda-envs/ml_keras/lib/python3.10/site-packages/keras/engine/training_v1.py:2357: UserWarning: `Model.state_updates` will be removed in a future version. This property should not be used in TensorFlow 2.0, as `updates` are applied automatically.\n",
      "  updates=self.state_updates,\n",
      "/glade/work/griverat/conda-envs/ml_keras/lib/python3.10/site-packages/keras/engine/training_v1.py:2357: UserWarning: `Model.state_updates` will be removed in a future version. This property should not be used in TensorFlow 2.0, as `updates` are applied automatically.\n",
      "  updates=self.state_updates,\n"
     ]
    },
    {
     "name": "stdout",
     "output_type": "stream",
     "text": [
      "Reading ensemble member: 04\n"
     ]
    },
    {
     "name": "stderr",
     "output_type": "stream",
     "text": [
      "/glade/work/griverat/conda-envs/ml_keras/lib/python3.10/site-packages/keras/engine/training_v1.py:2357: UserWarning: `Model.state_updates` will be removed in a future version. This property should not be used in TensorFlow 2.0, as `updates` are applied automatically.\n",
      "  updates=self.state_updates,\n",
      "/glade/work/griverat/conda-envs/ml_keras/lib/python3.10/site-packages/keras/engine/training_v1.py:2357: UserWarning: `Model.state_updates` will be removed in a future version. This property should not be used in TensorFlow 2.0, as `updates` are applied automatically.\n",
      "  updates=self.state_updates,\n"
     ]
    },
    {
     "name": "stdout",
     "output_type": "stream",
     "text": [
      "Reading ensemble member: 05\n"
     ]
    },
    {
     "name": "stderr",
     "output_type": "stream",
     "text": [
      "/glade/work/griverat/conda-envs/ml_keras/lib/python3.10/site-packages/keras/engine/training_v1.py:2357: UserWarning: `Model.state_updates` will be removed in a future version. This property should not be used in TensorFlow 2.0, as `updates` are applied automatically.\n",
      "  updates=self.state_updates,\n",
      "/glade/work/griverat/conda-envs/ml_keras/lib/python3.10/site-packages/keras/engine/training_v1.py:2357: UserWarning: `Model.state_updates` will be removed in a future version. This property should not be used in TensorFlow 2.0, as `updates` are applied automatically.\n",
      "  updates=self.state_updates,\n"
     ]
    },
    {
     "name": "stdout",
     "output_type": "stream",
     "text": [
      "Reading ensemble member: 06\n"
     ]
    },
    {
     "name": "stderr",
     "output_type": "stream",
     "text": [
      "/glade/work/griverat/conda-envs/ml_keras/lib/python3.10/site-packages/keras/engine/training_v1.py:2357: UserWarning: `Model.state_updates` will be removed in a future version. This property should not be used in TensorFlow 2.0, as `updates` are applied automatically.\n",
      "  updates=self.state_updates,\n",
      "/glade/work/griverat/conda-envs/ml_keras/lib/python3.10/site-packages/keras/engine/training_v1.py:2357: UserWarning: `Model.state_updates` will be removed in a future version. This property should not be used in TensorFlow 2.0, as `updates` are applied automatically.\n",
      "  updates=self.state_updates,\n"
     ]
    },
    {
     "name": "stdout",
     "output_type": "stream",
     "text": [
      "Reading ensemble member: 07\n"
     ]
    },
    {
     "name": "stderr",
     "output_type": "stream",
     "text": [
      "/glade/work/griverat/conda-envs/ml_keras/lib/python3.10/site-packages/keras/engine/training_v1.py:2357: UserWarning: `Model.state_updates` will be removed in a future version. This property should not be used in TensorFlow 2.0, as `updates` are applied automatically.\n",
      "  updates=self.state_updates,\n",
      "/glade/work/griverat/conda-envs/ml_keras/lib/python3.10/site-packages/keras/engine/training_v1.py:2357: UserWarning: `Model.state_updates` will be removed in a future version. This property should not be used in TensorFlow 2.0, as `updates` are applied automatically.\n",
      "  updates=self.state_updates,\n"
     ]
    },
    {
     "name": "stdout",
     "output_type": "stream",
     "text": [
      "Reading ensemble member: 08\n"
     ]
    },
    {
     "name": "stderr",
     "output_type": "stream",
     "text": [
      "/glade/work/griverat/conda-envs/ml_keras/lib/python3.10/site-packages/keras/engine/training_v1.py:2357: UserWarning: `Model.state_updates` will be removed in a future version. This property should not be used in TensorFlow 2.0, as `updates` are applied automatically.\n",
      "  updates=self.state_updates,\n",
      "/glade/work/griverat/conda-envs/ml_keras/lib/python3.10/site-packages/keras/engine/training_v1.py:2357: UserWarning: `Model.state_updates` will be removed in a future version. This property should not be used in TensorFlow 2.0, as `updates` are applied automatically.\n",
      "  updates=self.state_updates,\n"
     ]
    },
    {
     "name": "stdout",
     "output_type": "stream",
     "text": [
      "Reading ensemble member: 09\n"
     ]
    },
    {
     "name": "stderr",
     "output_type": "stream",
     "text": [
      "/glade/work/griverat/conda-envs/ml_keras/lib/python3.10/site-packages/keras/engine/training_v1.py:2357: UserWarning: `Model.state_updates` will be removed in a future version. This property should not be used in TensorFlow 2.0, as `updates` are applied automatically.\n",
      "  updates=self.state_updates,\n",
      "/glade/work/griverat/conda-envs/ml_keras/lib/python3.10/site-packages/keras/engine/training_v1.py:2357: UserWarning: `Model.state_updates` will be removed in a future version. This property should not be used in TensorFlow 2.0, as `updates` are applied automatically.\n",
      "  updates=self.state_updates,\n"
     ]
    },
    {
     "name": "stdout",
     "output_type": "stream",
     "text": [
      "Reading ensemble member: 10\n"
     ]
    },
    {
     "name": "stderr",
     "output_type": "stream",
     "text": [
      "/glade/work/griverat/conda-envs/ml_keras/lib/python3.10/site-packages/keras/engine/training_v1.py:2357: UserWarning: `Model.state_updates` will be removed in a future version. This property should not be used in TensorFlow 2.0, as `updates` are applied automatically.\n",
      "  updates=self.state_updates,\n",
      "/glade/work/griverat/conda-envs/ml_keras/lib/python3.10/site-packages/keras/engine/training_v1.py:2357: UserWarning: `Model.state_updates` will be removed in a future version. This property should not be used in TensorFlow 2.0, as `updates` are applied automatically.\n",
      "  updates=self.state_updates,\n"
     ]
    },
    {
     "name": "stdout",
     "output_type": "stream",
     "text": [
      "Reading ensemble member: 11\n"
     ]
    },
    {
     "name": "stderr",
     "output_type": "stream",
     "text": [
      "/glade/work/griverat/conda-envs/ml_keras/lib/python3.10/site-packages/keras/engine/training_v1.py:2357: UserWarning: `Model.state_updates` will be removed in a future version. This property should not be used in TensorFlow 2.0, as `updates` are applied automatically.\n",
      "  updates=self.state_updates,\n",
      "/glade/work/griverat/conda-envs/ml_keras/lib/python3.10/site-packages/keras/engine/training_v1.py:2357: UserWarning: `Model.state_updates` will be removed in a future version. This property should not be used in TensorFlow 2.0, as `updates` are applied automatically.\n",
      "  updates=self.state_updates,\n"
     ]
    },
    {
     "name": "stdout",
     "output_type": "stream",
     "text": [
      "Reading ensemble member: 12\n"
     ]
    },
    {
     "name": "stderr",
     "output_type": "stream",
     "text": [
      "/glade/work/griverat/conda-envs/ml_keras/lib/python3.10/site-packages/keras/engine/training_v1.py:2357: UserWarning: `Model.state_updates` will be removed in a future version. This property should not be used in TensorFlow 2.0, as `updates` are applied automatically.\n",
      "  updates=self.state_updates,\n",
      "/glade/work/griverat/conda-envs/ml_keras/lib/python3.10/site-packages/keras/engine/training_v1.py:2357: UserWarning: `Model.state_updates` will be removed in a future version. This property should not be used in TensorFlow 2.0, as `updates` are applied automatically.\n",
      "  updates=self.state_updates,\n"
     ]
    },
    {
     "name": "stdout",
     "output_type": "stream",
     "text": [
      "Reading ensemble member: 13\n"
     ]
    },
    {
     "name": "stderr",
     "output_type": "stream",
     "text": [
      "/glade/work/griverat/conda-envs/ml_keras/lib/python3.10/site-packages/keras/engine/training_v1.py:2357: UserWarning: `Model.state_updates` will be removed in a future version. This property should not be used in TensorFlow 2.0, as `updates` are applied automatically.\n",
      "  updates=self.state_updates,\n",
      "/glade/work/griverat/conda-envs/ml_keras/lib/python3.10/site-packages/keras/engine/training_v1.py:2357: UserWarning: `Model.state_updates` will be removed in a future version. This property should not be used in TensorFlow 2.0, as `updates` are applied automatically.\n",
      "  updates=self.state_updates,\n"
     ]
    },
    {
     "name": "stdout",
     "output_type": "stream",
     "text": [
      "Reading ensemble member: 14\n"
     ]
    },
    {
     "name": "stderr",
     "output_type": "stream",
     "text": [
      "/glade/work/griverat/conda-envs/ml_keras/lib/python3.10/site-packages/keras/engine/training_v1.py:2357: UserWarning: `Model.state_updates` will be removed in a future version. This property should not be used in TensorFlow 2.0, as `updates` are applied automatically.\n",
      "  updates=self.state_updates,\n",
      "/glade/work/griverat/conda-envs/ml_keras/lib/python3.10/site-packages/keras/engine/training_v1.py:2357: UserWarning: `Model.state_updates` will be removed in a future version. This property should not be used in TensorFlow 2.0, as `updates` are applied automatically.\n",
      "  updates=self.state_updates,\n"
     ]
    },
    {
     "name": "stdout",
     "output_type": "stream",
     "text": [
      "Reading ensemble member: 15\n"
     ]
    },
    {
     "name": "stderr",
     "output_type": "stream",
     "text": [
      "/glade/work/griverat/conda-envs/ml_keras/lib/python3.10/site-packages/keras/engine/training_v1.py:2357: UserWarning: `Model.state_updates` will be removed in a future version. This property should not be used in TensorFlow 2.0, as `updates` are applied automatically.\n",
      "  updates=self.state_updates,\n",
      "/glade/work/griverat/conda-envs/ml_keras/lib/python3.10/site-packages/keras/engine/training_v1.py:2357: UserWarning: `Model.state_updates` will be removed in a future version. This property should not be used in TensorFlow 2.0, as `updates` are applied automatically.\n",
      "  updates=self.state_updates,\n"
     ]
    },
    {
     "name": "stdout",
     "output_type": "stream",
     "text": [
      "Reading ensemble member: 16\n"
     ]
    },
    {
     "name": "stderr",
     "output_type": "stream",
     "text": [
      "/glade/work/griverat/conda-envs/ml_keras/lib/python3.10/site-packages/keras/engine/training_v1.py:2357: UserWarning: `Model.state_updates` will be removed in a future version. This property should not be used in TensorFlow 2.0, as `updates` are applied automatically.\n",
      "  updates=self.state_updates,\n",
      "/glade/work/griverat/conda-envs/ml_keras/lib/python3.10/site-packages/keras/engine/training_v1.py:2357: UserWarning: `Model.state_updates` will be removed in a future version. This property should not be used in TensorFlow 2.0, as `updates` are applied automatically.\n",
      "  updates=self.state_updates,\n"
     ]
    },
    {
     "name": "stdout",
     "output_type": "stream",
     "text": [
      "Reading ensemble member: 17\n"
     ]
    },
    {
     "name": "stderr",
     "output_type": "stream",
     "text": [
      "/glade/work/griverat/conda-envs/ml_keras/lib/python3.10/site-packages/keras/engine/training_v1.py:2357: UserWarning: `Model.state_updates` will be removed in a future version. This property should not be used in TensorFlow 2.0, as `updates` are applied automatically.\n",
      "  updates=self.state_updates,\n",
      "/glade/work/griverat/conda-envs/ml_keras/lib/python3.10/site-packages/keras/engine/training_v1.py:2357: UserWarning: `Model.state_updates` will be removed in a future version. This property should not be used in TensorFlow 2.0, as `updates` are applied automatically.\n",
      "  updates=self.state_updates,\n"
     ]
    },
    {
     "name": "stdout",
     "output_type": "stream",
     "text": [
      "Reading ensemble member: 18\n"
     ]
    },
    {
     "name": "stderr",
     "output_type": "stream",
     "text": [
      "/glade/work/griverat/conda-envs/ml_keras/lib/python3.10/site-packages/keras/engine/training_v1.py:2357: UserWarning: `Model.state_updates` will be removed in a future version. This property should not be used in TensorFlow 2.0, as `updates` are applied automatically.\n",
      "  updates=self.state_updates,\n",
      "/glade/work/griverat/conda-envs/ml_keras/lib/python3.10/site-packages/keras/engine/training_v1.py:2357: UserWarning: `Model.state_updates` will be removed in a future version. This property should not be used in TensorFlow 2.0, as `updates` are applied automatically.\n",
      "  updates=self.state_updates,\n"
     ]
    },
    {
     "name": "stdout",
     "output_type": "stream",
     "text": [
      "Reading ensemble member: 19\n"
     ]
    },
    {
     "name": "stderr",
     "output_type": "stream",
     "text": [
      "/glade/work/griverat/conda-envs/ml_keras/lib/python3.10/site-packages/keras/engine/training_v1.py:2357: UserWarning: `Model.state_updates` will be removed in a future version. This property should not be used in TensorFlow 2.0, as `updates` are applied automatically.\n",
      "  updates=self.state_updates,\n",
      "/glade/work/griverat/conda-envs/ml_keras/lib/python3.10/site-packages/keras/engine/training_v1.py:2357: UserWarning: `Model.state_updates` will be removed in a future version. This property should not be used in TensorFlow 2.0, as `updates` are applied automatically.\n",
      "  updates=self.state_updates,\n"
     ]
    },
    {
     "name": "stdout",
     "output_type": "stream",
     "text": [
      "Reading ensemble member: 20\n"
     ]
    },
    {
     "name": "stderr",
     "output_type": "stream",
     "text": [
      "/glade/work/griverat/conda-envs/ml_keras/lib/python3.10/site-packages/keras/engine/training_v1.py:2357: UserWarning: `Model.state_updates` will be removed in a future version. This property should not be used in TensorFlow 2.0, as `updates` are applied automatically.\n",
      "  updates=self.state_updates,\n",
      "/glade/work/griverat/conda-envs/ml_keras/lib/python3.10/site-packages/keras/engine/training_v1.py:2357: UserWarning: `Model.state_updates` will be removed in a future version. This property should not be used in TensorFlow 2.0, as `updates` are applied automatically.\n",
      "  updates=self.state_updates,\n"
     ]
    },
    {
     "name": "stdout",
     "output_type": "stream",
     "text": [
      "Reading ensemble member: 21\n"
     ]
    },
    {
     "name": "stderr",
     "output_type": "stream",
     "text": [
      "/glade/work/griverat/conda-envs/ml_keras/lib/python3.10/site-packages/keras/engine/training_v1.py:2357: UserWarning: `Model.state_updates` will be removed in a future version. This property should not be used in TensorFlow 2.0, as `updates` are applied automatically.\n",
      "  updates=self.state_updates,\n",
      "/glade/work/griverat/conda-envs/ml_keras/lib/python3.10/site-packages/keras/engine/training_v1.py:2357: UserWarning: `Model.state_updates` will be removed in a future version. This property should not be used in TensorFlow 2.0, as `updates` are applied automatically.\n",
      "  updates=self.state_updates,\n"
     ]
    },
    {
     "name": "stdout",
     "output_type": "stream",
     "text": [
      "Reading ensemble member: 22\n"
     ]
    },
    {
     "name": "stderr",
     "output_type": "stream",
     "text": [
      "/glade/work/griverat/conda-envs/ml_keras/lib/python3.10/site-packages/keras/engine/training_v1.py:2357: UserWarning: `Model.state_updates` will be removed in a future version. This property should not be used in TensorFlow 2.0, as `updates` are applied automatically.\n",
      "  updates=self.state_updates,\n",
      "/glade/work/griverat/conda-envs/ml_keras/lib/python3.10/site-packages/keras/engine/training_v1.py:2357: UserWarning: `Model.state_updates` will be removed in a future version. This property should not be used in TensorFlow 2.0, as `updates` are applied automatically.\n",
      "  updates=self.state_updates,\n"
     ]
    },
    {
     "name": "stdout",
     "output_type": "stream",
     "text": [
      "Reading ensemble member: 23\n"
     ]
    },
    {
     "name": "stderr",
     "output_type": "stream",
     "text": [
      "/glade/work/griverat/conda-envs/ml_keras/lib/python3.10/site-packages/keras/engine/training_v1.py:2357: UserWarning: `Model.state_updates` will be removed in a future version. This property should not be used in TensorFlow 2.0, as `updates` are applied automatically.\n",
      "  updates=self.state_updates,\n",
      "/glade/work/griverat/conda-envs/ml_keras/lib/python3.10/site-packages/keras/engine/training_v1.py:2357: UserWarning: `Model.state_updates` will be removed in a future version. This property should not be used in TensorFlow 2.0, as `updates` are applied automatically.\n",
      "  updates=self.state_updates,\n"
     ]
    },
    {
     "name": "stdout",
     "output_type": "stream",
     "text": [
      "Reading ensemble member: 24\n"
     ]
    },
    {
     "name": "stderr",
     "output_type": "stream",
     "text": [
      "/glade/work/griverat/conda-envs/ml_keras/lib/python3.10/site-packages/keras/engine/training_v1.py:2357: UserWarning: `Model.state_updates` will be removed in a future version. This property should not be used in TensorFlow 2.0, as `updates` are applied automatically.\n",
      "  updates=self.state_updates,\n",
      "/glade/work/griverat/conda-envs/ml_keras/lib/python3.10/site-packages/keras/engine/training_v1.py:2357: UserWarning: `Model.state_updates` will be removed in a future version. This property should not be used in TensorFlow 2.0, as `updates` are applied automatically.\n",
      "  updates=self.state_updates,\n"
     ]
    },
    {
     "name": "stdout",
     "output_type": "stream",
     "text": [
      "Reading ensemble member: 25\n"
     ]
    },
    {
     "name": "stderr",
     "output_type": "stream",
     "text": [
      "/glade/work/griverat/conda-envs/ml_keras/lib/python3.10/site-packages/keras/engine/training_v1.py:2357: UserWarning: `Model.state_updates` will be removed in a future version. This property should not be used in TensorFlow 2.0, as `updates` are applied automatically.\n",
      "  updates=self.state_updates,\n",
      "/glade/work/griverat/conda-envs/ml_keras/lib/python3.10/site-packages/keras/engine/training_v1.py:2357: UserWarning: `Model.state_updates` will be removed in a future version. This property should not be used in TensorFlow 2.0, as `updates` are applied automatically.\n",
      "  updates=self.state_updates,\n"
     ]
    },
    {
     "name": "stdout",
     "output_type": "stream",
     "text": [
      "Reading ensemble member: 26\n"
     ]
    },
    {
     "name": "stderr",
     "output_type": "stream",
     "text": [
      "/glade/work/griverat/conda-envs/ml_keras/lib/python3.10/site-packages/keras/engine/training_v1.py:2357: UserWarning: `Model.state_updates` will be removed in a future version. This property should not be used in TensorFlow 2.0, as `updates` are applied automatically.\n",
      "  updates=self.state_updates,\n",
      "/glade/work/griverat/conda-envs/ml_keras/lib/python3.10/site-packages/keras/engine/training_v1.py:2357: UserWarning: `Model.state_updates` will be removed in a future version. This property should not be used in TensorFlow 2.0, as `updates` are applied automatically.\n",
      "  updates=self.state_updates,\n"
     ]
    },
    {
     "name": "stdout",
     "output_type": "stream",
     "text": [
      "Reading ensemble member: 27\n"
     ]
    },
    {
     "name": "stderr",
     "output_type": "stream",
     "text": [
      "/glade/work/griverat/conda-envs/ml_keras/lib/python3.10/site-packages/keras/engine/training_v1.py:2357: UserWarning: `Model.state_updates` will be removed in a future version. This property should not be used in TensorFlow 2.0, as `updates` are applied automatically.\n",
      "  updates=self.state_updates,\n",
      "/glade/work/griverat/conda-envs/ml_keras/lib/python3.10/site-packages/keras/engine/training_v1.py:2357: UserWarning: `Model.state_updates` will be removed in a future version. This property should not be used in TensorFlow 2.0, as `updates` are applied automatically.\n",
      "  updates=self.state_updates,\n"
     ]
    },
    {
     "name": "stdout",
     "output_type": "stream",
     "text": [
      "Reading ensemble member: 28\n"
     ]
    },
    {
     "name": "stderr",
     "output_type": "stream",
     "text": [
      "/glade/work/griverat/conda-envs/ml_keras/lib/python3.10/site-packages/keras/engine/training_v1.py:2357: UserWarning: `Model.state_updates` will be removed in a future version. This property should not be used in TensorFlow 2.0, as `updates` are applied automatically.\n",
      "  updates=self.state_updates,\n",
      "/glade/work/griverat/conda-envs/ml_keras/lib/python3.10/site-packages/keras/engine/training_v1.py:2357: UserWarning: `Model.state_updates` will be removed in a future version. This property should not be used in TensorFlow 2.0, as `updates` are applied automatically.\n",
      "  updates=self.state_updates,\n"
     ]
    },
    {
     "name": "stdout",
     "output_type": "stream",
     "text": [
      "Reading ensemble member: 29\n"
     ]
    },
    {
     "name": "stderr",
     "output_type": "stream",
     "text": [
      "/glade/work/griverat/conda-envs/ml_keras/lib/python3.10/site-packages/keras/engine/training_v1.py:2357: UserWarning: `Model.state_updates` will be removed in a future version. This property should not be used in TensorFlow 2.0, as `updates` are applied automatically.\n",
      "  updates=self.state_updates,\n",
      "/glade/work/griverat/conda-envs/ml_keras/lib/python3.10/site-packages/keras/engine/training_v1.py:2357: UserWarning: `Model.state_updates` will be removed in a future version. This property should not be used in TensorFlow 2.0, as `updates` are applied automatically.\n",
      "  updates=self.state_updates,\n"
     ]
    }
   ],
   "source": [
    "NENS = 30\n",
    "concat_data = godas_data\n",
    "\n",
    "for ens_number in range(NENS):\n",
    "    print(f\"Reading ensemble member: {ens_number:02d}\")\n",
    "\n",
    "    EXP_NAME = f\"ecmodel_m{ens_number:02d}\"\n",
    "    OUT_PATH = os.path.join(\"../models/IGP-UHM-v1.0\", EXP_NAME)\n",
    "    MODEL_FT_PATH = os.path.join(OUT_PATH, f\"model_ft_{ens_number:02d}\")\n",
    "\n",
    "    model = tf.keras.models.load_model(\n",
    "        MODEL_FT_PATH,\n",
    "        custom_objects=dict(\n",
    "            CriticalScoreIndex=CriticalScoreIndex,\n",
    "            CategoricalTruePositives=CategoricalTruePositives,\n",
    "            CategoricalFalsePositives=CategoricalFalsePositives,\n",
    "            CategoricalTrueNegatives=CategoricalTrueNegatives,\n",
    "            CategoricalFalseNegatives=CategoricalFalseNegatives,\n",
    "        ),\n",
    "    )\n",
    "\n",
    "    model_class = tf.keras.models.Model(\n",
    "        inputs=model.input,\n",
    "        outputs=innvestigate.backend.graph.pre_output_tensors(model.layers[-1].output),\n",
    "    )\n",
    "\n",
    "    class_hat = model_class.predict(godas_data.data)\n",
    "\n",
    "    class_hat = np.array(class_hat).astype(np.float32)\n",
    "\n",
    "    model_test_output = xr.Dataset(\n",
    "        {\n",
    "            \"class_hat\": ([\"time\"], class_hat[:, 1]),\n",
    "        },\n",
    "        coords={\n",
    "            \"time\": godas_data.time,\n",
    "            \"month\": ([\"time\"], godas_data.time.dt.month.data),\n",
    "            \"year\": ([\"time\"], godas_data.time.dt.year.data),\n",
    "        },\n",
    "    )\n",
    "    model_test_output.to_netcdf(\n",
    "        os.path.join(OUT_PATH, f\"model_output_ft_godas_nosoft_{ens_number:02d}.nc\")\n",
    "    )\n",
    "\n",
    "    lrpSeqA_analyzer_model_class = innvestigate.create_analyzer(\n",
    "        \"lrp.sequential_preset_a\", model_class, neuron_selection_mode=\"index\"\n",
    "    )\n",
    "\n",
    "    LRPSEQAFLAT_heatmaps_model_class = [\n",
    "        lrpSeqA_analyzer_model_class.analyze(\n",
    "            map_sample.expand_dims(\"time\").data, neuron_selection=1\n",
    "        )\n",
    "        for map_sample in concat_data\n",
    "    ]\n",
    "\n",
    "    LRPSEQAFLAT_heatmaps_model_class = xr.DataArray(\n",
    "        np.array(LRPSEQAFLAT_heatmaps_model_class).squeeze(),\n",
    "        dims=[\"time\", \"channel\", \"lag\", \"lat\", \"lon\"],\n",
    "        coords={\n",
    "            \"time\": concat_data.time,\n",
    "            \"channel\": concat_data.channel,\n",
    "            \"lag\": concat_data.lag,\n",
    "            \"lat\": concat_data.lat,\n",
    "            \"lon\": concat_data.lon,\n",
    "            # \"model\": (\"time\", concat_data.model.data),\n",
    "        },\n",
    "        name=\"LRPSEQAFLAT_heatmaps_model_class\",\n",
    "    )\n",
    "\n",
    "    LRPSEQAFLAT_heatmaps_model_class.to_netcdf(\n",
    "        os.path.join(OUT_PATH, f\"LRPSEQAFLAT_heatmaps_godas_class_{ens_number:02d}.nc\")\n",
    "    )"
   ]
  }
 ],
 "metadata": {
  "kernelspec": {
   "display_name": "Python [conda env:ml_keras]",
   "language": "python",
   "name": "conda-env-ml_keras-py"
  },
  "language_info": {
   "codemirror_mode": {
    "name": "ipython",
    "version": 3
   },
   "file_extension": ".py",
   "mimetype": "text/x-python",
   "name": "python",
   "nbconvert_exporter": "python",
   "pygments_lexer": "ipython3",
   "version": "3.10.12"
  }
 },
 "nbformat": 4,
 "nbformat_minor": 5
}
