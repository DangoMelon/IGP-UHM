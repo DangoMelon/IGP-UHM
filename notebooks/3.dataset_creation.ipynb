{
 "cells": [
  {
   "cell_type": "markdown",
   "metadata": {},
   "source": [
    "# Training set creation\n",
    "\n",
    "This notebook is used to create the training set for the DL_EC model. The training set is created by combining the data from the different sources (mostly CMIP6). The data is then split into training and validation sets. The training set is then saved to a file."
   ]
  },
  {
   "cell_type": "code",
   "execution_count": 1,
   "metadata": {},
   "outputs": [],
   "source": [
    "import glob\n",
    "import json\n",
    "import os\n",
    "import random\n",
    "from glob import glob\n",
    "\n",
    "import numpy as np\n",
    "import pandas as pd\n",
    "import xarray as xr\n",
    "from dmelon.utils import check_folder\n",
    "from tqdm.notebook import tqdm"
   ]
  },
  {
   "cell_type": "code",
   "execution_count": 2,
   "metadata": {},
   "outputs": [],
   "source": [
    "def prepare_label(ds_label, index, stime, etime, model_name=None):\n",
    "    if model_name is None:\n",
    "        model_name = ds_label.attrs[\"model\"]\n",
    "    label_set = ds_label[index].rolling(time=24).construct(\"lead\").dropna(\"time\")\n",
    "    label_set = label_set.assign_coords(model=model_name)\n",
    "    # Here we susbstract 23 months to the time index to get the first month aligned with the\n",
    "    # proper lead time (0 lead).\n",
    "    label_set[\"time\"] = (\n",
    "        label_set.indexes[\"time\"]\n",
    "        .to_series()\n",
    "        .apply(\n",
    "            lambda x: (x - pd.DateOffset(months=23)).replace(\n",
    "                day=15, hour=0, minute=0, second=0\n",
    "            )\n",
    "        )\n",
    "        .values\n",
    "    )\n",
    "    # Just cause I know i tend to forget a lot about multiple things, I will leave this here\n",
    "    # as a small snippet to prove the above offset is correct.\n",
    "\n",
    "    # import pandas as pd\n",
    "    # import numpy as np\n",
    "    # import xarray as xr\n",
    "\n",
    "    # _test = (\n",
    "    #     xr.DataArray(\n",
    "    #         np.arange(100),\n",
    "    #         coords=[(\"time\", pd.date_range(\"2000-01\", freq=\"M\", periods=100))],\n",
    "    #     )\n",
    "    #     .rolling(time=24)\n",
    "    #     .construct(\"lead\")\n",
    "    #     .dropna(\"time\")\n",
    "    # )\n",
    "    # _test[\"time\"] = (\n",
    "    #     _test.indexes[\"time\"]\n",
    "    #     .to_series()\n",
    "    #     .apply(\n",
    "    #        lambda x: (x - pd.DateOffset(months=23)).replace(\n",
    "    #            day=15, hour=0, minute=0, second=0\n",
    "    #        )\n",
    "    #    )\n",
    "    # )\n",
    "    # _test\n",
    "\n",
    "    # This results in a lead time of 0 with the correct time dimension\n",
    "\n",
    "    # It is nice to have coordinates along the label dimension so we don't mess up\n",
    "    # with the leads once we start working with the data.\n",
    "    label_set[\"lead\"] = np.arange(24)\n",
    "    label_set[\"month\"] = label_set.time.dt.month\n",
    "    # print(f\"{model_name:<12s}: {label_set.shape=}\")\n",
    "    # Here we return the slice aligned with the input data on the time dimension\n",
    "    return label_set.transpose(\"time\", \"lead\").sel(time=slice(stime, etime))\n",
    "\n",
    "\n",
    "def get_dates(start: tuple, end: tuple):\n",
    "    syear, smonth = start\n",
    "    eyear, emonth = end\n",
    "    return (\n",
    "        f\"{syear}-{smonth}\",\n",
    "        f\"{eyear}-{emonth}\",\n",
    "        f\"{syear}-{smonth}\",\n",
    "        f\"{eyear}-{emonth}\",\n",
    "    )"
   ]
  },
  {
   "cell_type": "markdown",
   "metadata": {},
   "source": [
    "# Observations"
   ]
  },
  {
   "cell_type": "markdown",
   "metadata": {},
   "source": [
    "## GODAS"
   ]
  },
  {
   "cell_type": "code",
   "execution_count": 3,
   "metadata": {},
   "outputs": [],
   "source": [
    "OBS_PATH = \"../data/processed/\"\n",
    "ROLLING_AMOUNT = 3\n",
    "\n",
    "OUT_PATH = os.path.join(OBS_PATH, \"obs_train\")\n",
    "\n",
    "check_folder(OUT_PATH)"
   ]
  },
  {
   "cell_type": "code",
   "execution_count": 4,
   "metadata": {},
   "outputs": [
    {
     "name": "stdout",
     "output_type": "stream",
     "text": [
      "godas_start='1980-3', godas_end='2021-1', godas_label_start='1980-3', godas_label_end='2021-1'\n"
     ]
    }
   ],
   "source": [
    "max_val_time = pd.to_datetime(\"2022-12\") - pd.DateOffset(months=23)\n",
    "sgodas_y, sgodas_m = 1980, 3\n",
    "egodas_y, egodas_m = int(f\"{max_val_time:%Y}\"), int(f\"{max_val_time:%m}\")\n",
    "\n",
    "# Format dates\n",
    "godas_start, godas_end, godas_label_start, godas_label_end = get_dates(\n",
    "    (sgodas_y, sgodas_m), (egodas_y, egodas_m)\n",
    ")\n",
    "print(f\"{godas_start=}, {godas_end=}, {godas_label_start=}, {godas_label_end=}\")"
   ]
  },
  {
   "cell_type": "code",
   "execution_count": 5,
   "metadata": {},
   "outputs": [],
   "source": [
    "ecindex = xr.open_dataset(os.path.join(OBS_PATH, \"godas.ecindex.nc\"))\n",
    "elabel = prepare_label(ecindex, \"E_index\", godas_label_start, godas_label_end, \"GODAS\")\n",
    "clabel = prepare_label(ecindex, \"C_index\", godas_label_start, godas_label_end, \"GODAS\")\n",
    "elabel.to_netcdf(os.path.join(OUT_PATH, \"godas.E_index.nc\"))\n",
    "clabel.to_netcdf(os.path.join(OUT_PATH, \"godas.C_index.nc\"))\n",
    "\n",
    "ecindex_3mn = xr.open_dataset(os.path.join(OBS_PATH, \"godas.ecindex_3mn.nc\"))\n",
    "elabel_3mn = prepare_label(\n",
    "    ecindex_3mn,\n",
    "    \"E_index\",\n",
    "    godas_label_start,\n",
    "    godas_label_end,\n",
    "    \"GODAS\",\n",
    ")\n",
    "clabel_3mn = prepare_label(\n",
    "    ecindex_3mn,\n",
    "    \"C_index\",\n",
    "    godas_label_start,\n",
    "    godas_label_end,\n",
    "    \"GODAS\",\n",
    ")\n",
    "elabel_3mn.to_netcdf(os.path.join(OUT_PATH, \"godas.E_index_3mn.nc\"))\n",
    "clabel_3mn.to_netcdf(os.path.join(OUT_PATH, \"godas.C_index_3mn.nc\"))\n",
    "\n",
    "en34 = xr.open_dataset(os.path.join(OBS_PATH, \"godas.en34.nc\"))\n",
    "en34 = prepare_label(en34, \"en34\", godas_label_start, godas_label_end, \"GODAS\")\n",
    "en34.to_netcdf(os.path.join(OUT_PATH, \"godas.en34.nc\"))\n",
    "\n",
    "en34_3mn = xr.open_dataset(os.path.join(OBS_PATH, \"godas.en34_3mn.nc\"))\n",
    "en34_3mn = prepare_label(en34_3mn, \"en34\", godas_label_start, godas_label_end, \"GODAS\")\n",
    "en34_3mn.to_netcdf(os.path.join(OUT_PATH, \"godas.en34_3mn.nc\"))"
   ]
  },
  {
   "cell_type": "code",
   "execution_count": 6,
   "metadata": {},
   "outputs": [],
   "source": [
    "godas_sst_ds = xr.open_dataset(os.path.join(OBS_PATH, \"godas.sst.anom.nc\"))\n",
    "godas_sst_anom = godas_sst_ds.ssta\n",
    "godas_sst_anom[\"time\"] = (\n",
    "    godas_sst_anom.indexes[\"time\"]\n",
    "    .to_series()\n",
    "    .apply(lambda x: x.replace(day=15, hour=0, minute=0, second=0))\n",
    "    .values\n",
    ")\n",
    "\n",
    "godas_ssh_anom = xr.open_dataset(os.path.join(OBS_PATH, \"godas.ssh.anom.nc\")).sla\n",
    "godas_ssh_anom[\"time\"] = (\n",
    "    godas_ssh_anom.indexes[\"time\"]\n",
    "    .to_series()\n",
    "    .apply(lambda x: x.replace(day=15, hour=0, minute=0, second=0))\n",
    "    .values\n",
    ")\n",
    "\n",
    "ncep_uwnd_anom = xr.open_dataset(os.path.join(OBS_PATH, \"ncep.uwnd.anom.nc\")).uwnda\n",
    "ncep_uwnd_anom[\"time\"] = (\n",
    "    ncep_uwnd_anom.indexes[\"time\"]\n",
    "    .to_series()\n",
    "    .apply(lambda x: x.replace(day=15, hour=0, minute=0, second=0))\n",
    "    .values\n",
    ")\n",
    "\n",
    "ncep_vwnd_anom = xr.open_dataset(os.path.join(OBS_PATH, \"ncep.vwnd.anom.nc\")).vwnda\n",
    "ncep_vwnd_anom[\"time\"] = (\n",
    "    ncep_vwnd_anom.indexes[\"time\"]\n",
    "    .to_series()\n",
    "    .apply(lambda x: x.replace(day=15, hour=0, minute=0, second=0))\n",
    "    .values\n",
    ")\n",
    "\n",
    "input_set = (\n",
    "    xr.concat(\n",
    "        [\n",
    "            godas_sst_anom.rolling(time=ROLLING_AMOUNT).construct(\"lag\"),\n",
    "            godas_ssh_anom.rolling(time=ROLLING_AMOUNT).construct(\"lag\"),\n",
    "            ncep_uwnd_anom.rolling(time=ROLLING_AMOUNT).construct(\"lag\"),\n",
    "            ncep_vwnd_anom.rolling(time=ROLLING_AMOUNT).construct(\"lag\"),\n",
    "        ],\n",
    "        dim=\"channel\",\n",
    "    )\n",
    "    .transpose(\"time\", \"lag\", \"channel\", \"lat\", \"lon\")\n",
    "    .sel(time=slice(godas_start, godas_end))\n",
    "    .fillna(0)\n",
    ")\n",
    "input_set[\"lag\"] = np.arange(-2, 1, 1)\n",
    "input_set[\"channel\"] = [\"sst\", \"ssh\", \"uas\", \"vas\"]\n",
    "\n",
    "input_set = input_set.assign_coords(model=\"GODAS\")\n",
    "input_set[\"mask\"] = godas_sst_ds.mask\n",
    "\n",
    "input_set.name = \"sst_anom\"\n",
    "\n",
    "input_set.to_netcdf(os.path.join(OUT_PATH, \"godas.train_set.nc\"))"
   ]
  },
  {
   "cell_type": "code",
   "execution_count": 7,
   "metadata": {},
   "outputs": [],
   "source": [
    "time_comp1 = np.cos(2 * np.pi * input_set.time.dt.month / 12)\n",
    "time_comp1.name = \"time_cos\"\n",
    "time_comp2 = np.sin(2 * np.pi * input_set.time.dt.month / 12)\n",
    "time_comp2.name = \"time_sin\"\n",
    "xr.merge([time_comp1, time_comp2]).to_netcdf(\n",
    "    os.path.join(OUT_PATH, \"godas.train_time_set.nc\")\n",
    ")"
   ]
  }
 ],
 "metadata": {
  "kernelspec": {
   "display_name": "Python [conda env:ml_keras]",
   "language": "python",
   "name": "conda-env-ml_keras-py"
  },
  "language_info": {
   "codemirror_mode": {
    "name": "ipython",
    "version": 3
   },
   "file_extension": ".py",
   "mimetype": "text/x-python",
   "name": "python",
   "nbconvert_exporter": "python",
   "pygments_lexer": "ipython3",
   "version": "3.10.12"
  },
  "vscode": {
   "interpreter": {
    "hash": "8c02621d98c66fdefa84359bacc6a0059f9317e7254e374e9af8ca05c775e9c1"
   }
  }
 },
 "nbformat": 4,
 "nbformat_minor": 4
}
